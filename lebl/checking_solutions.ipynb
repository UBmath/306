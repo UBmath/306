{
 "cells": [
  {
   "cell_type": "code",
   "execution_count": 1,
   "metadata": {},
   "outputs": [],
   "source": [
    "from resources306 import *"
   ]
  },
  {
   "cell_type": "markdown",
   "metadata": {},
   "source": [
    "Construct the alleged family of solutions:"
   ]
  },
  {
   "cell_type": "code",
   "execution_count": 2,
   "metadata": {},
   "outputs": [
    {
     "data": {
      "image/png": "[encoded data removed]",
      "text/latex": [
       "$\\displaystyle C e^{- t} + \\sin{\\left(t \\right)} + \\cos{\\left(t \\right)}$"
      ],
      "text/plain": [
       "   -t                  \n",
       "C⋅ℯ   + sin(t) + cos(t)"
      ]
     },
     "execution_count": 2,
     "metadata": {},
     "output_type": "execute_result"
    }
   ],
   "source": [
    "t,C = sp.symbols('t C')\n",
    "x = sp.cos(t) + sp.sin(t) + C*sp.exp(-t)\n",
    "x"
   ]
  },
  {
   "cell_type": "markdown",
   "metadata": {},
   "source": [
    "Verify that they all satisfy the differential equation $\\frac{dx}{dt} + x = 2 \\cos t$:"
   ]
  },
  {
   "cell_type": "code",
   "execution_count": 3,
   "metadata": {},
   "outputs": [
    {
     "data": {
      "text/plain": [
       "True"
      ]
     },
     "execution_count": 3,
     "metadata": {},
     "output_type": "execute_result"
    }
   ],
   "source": [
    "sp.diff(x,t) + x == 2*sp.cos(t)"
   ]
  },
  {
   "cell_type": "markdown",
   "metadata": {},
   "source": [
    "Checking \"LHS == RHS\" tests whether the two expressions are identical: it will not\n",
    "catch if they are different but equivalent, like $\\cos^2 t$ and $1 − \\sin^2 t$. A more robust tactic is to test if \"LHS − RHS\" simplifies to 0:"
   ]
  },
  {
   "cell_type": "code",
   "execution_count": 4,
   "metadata": {},
   "outputs": [
    {
     "data": {
      "text/plain": [
       "True"
      ]
     },
     "execution_count": 4,
     "metadata": {},
     "output_type": "execute_result"
    }
   ],
   "source": [
    "sp.simplify( sp.diff(x,t) + x - 2*sp.cos(t) ) == 0"
   ]
  },
  {
   "cell_type": "markdown",
   "metadata": {},
   "source": [
    "Plot a few of the solutions:"
   ]
  },
  {
   "cell_type": "code",
   "execution_count": 5,
   "metadata": {},
   "outputs": [
    {
     "data": {
      "image/png": "[encoded data removed]",
      "text/latex": [
       "$\\displaystyle \\left[ \\sin{\\left(t \\right)} + \\cos{\\left(t \\right)} - 2 e^{- t}, \\  \\sin{\\left(t \\right)} + \\cos{\\left(t \\right)}, \\  \\sin{\\left(t \\right)} + \\cos{\\left(t \\right)} + e^{- t}\\right]$"
      ],
      "text/plain": [
       "⎡                     -t                                      -t⎤\n",
       "⎣sin(t) + cos(t) - 2⋅ℯ  , sin(t) + cos(t), sin(t) + cos(t) + ℯ  ⎦"
      ]
     },
     "execution_count": 5,
     "metadata": {},
     "output_type": "execute_result"
    }
   ],
   "source": [
    "afewsolutions = [x.subs({C:c}) for c in [-2,0,1]]\n",
    "afewsolutions"
   ]
  },
  {
   "cell_type": "code",
   "execution_count": 6,
   "metadata": {},
   "outputs": [
    {
     "data": {
      "image/png": "[encoded data removed]",
      "text/plain": [
       "<Figure size 432x288 with 1 Axes>"
      ]
     },
     "metadata": {
      "needs_background": "light"
     },
     "output_type": "display_data"
    }
   ],
   "source": [
    "for solution in afewsolutions:\n",
    "    expressionplot( solution, t, 0, 5 )\n",
    "plt.grid()"
   ]
  },
  {
   "cell_type": "code",
   "execution_count": 18,
   "metadata": {},
   "outputs": [
    {
     "data": {
      "image/png": "[encoded data removed]",
      "text/latex": [
       "$$0$$"
      ],
      "text/plain": [
       "0"
      ]
     },
     "execution_count": 18,
     "metadata": {},
     "output_type": "execute_result"
    }
   ],
   "source": [
    "t = sp.symbols('t')\n",
    "y = sp.sin(t)\n",
    "sp.simplify( sp.diff(y,t)**2 - (1 - y**2) )"
   ]
  },
  {
   "cell_type": "code",
   "execution_count": 20,
   "metadata": {},
   "outputs": [
    {
     "data": {
      "image/png": "[encoded data removed]",
      "text/latex": [
       "$$r x^{r - 1} \\left(r - 2\\right)$$"
      ],
      "text/plain": [
       "   r - 1        \n",
       "r⋅x     ⋅(r - 2)"
      ]
     },
     "execution_count": 20,
     "metadata": {},
     "output_type": "execute_result"
    }
   ],
   "source": [
    "x,r = sp.symbols('x r')\n",
    "y = x**r\n",
    "sp.simplify( x*sp.diff(y,x,x)-sp.diff(y,x) )"
   ]
  },
  {
   "cell_type": "code",
   "execution_count": 21,
   "metadata": {},
   "outputs": [
    {
     "data": {
      "image/png": "[encoded data removed]",
      "text/latex": [
       "$$x \\sin{\\left (x \\right )} + e^{- x}$$"
      ],
      "text/plain": [
       "            -x\n",
       "x⋅sin(x) + ℯ  "
      ]
     },
     "execution_count": 21,
     "metadata": {},
     "output_type": "execute_result"
    }
   ],
   "source": [
    "y = x*sp.sin(x) + sp.exp(-x)\n",
    "y"
   ]
  },
  {
   "cell_type": "code",
   "execution_count": 29,
   "metadata": {},
   "outputs": [
    {
     "data": {
      "image/png": "[encoded data removed]",
      "text/latex": [
       "$$x^{2} \\cos{\\left (x \\right )} - x \\sin{\\left (x \\right )} - x e^{- x} + 2 \\cos{\\left (x \\right )}$$"
      ],
      "text/plain": [
       " 2                        -x           \n",
       "x ⋅cos(x) - x⋅sin(x) - x⋅ℯ   + 2⋅cos(x)"
      ]
     },
     "execution_count": 29,
     "metadata": {},
     "output_type": "execute_result"
    }
   ],
   "source": [
    "sp.simplify(sp.diff(y,x,x) + x*sp.diff(y,x)) - y"
   ]
  },
  {
   "cell_type": "code",
   "execution_count": 47,
   "metadata": {},
   "outputs": [
    {
     "data": {
      "image/png": "[encoded data removed]",
      "text/latex": [
       "$$- \\frac{4 x^{6}}{\\left(C + x^{2}\\right)^{2}} + \\frac{6 x^{4}}{C + x^{2}} + x^{2} \\left(\\frac{4 x^{4}}{\\left(C + x^{2}\\right)^{2}} - \\frac{6 x^{2}}{C + x^{2}}\\right)$$"
      ],
      "text/plain": [
       "        6         4       ⎛      4         2 ⎞\n",
       "     4⋅x       6⋅x      2 ⎜   4⋅x       6⋅x  ⎟\n",
       "- ───────── + ────── + x ⋅⎜───────── - ──────⎟\n",
       "          2        2      ⎜        2        2⎟\n",
       "  ⎛     2⎞    C + x       ⎜⎛     2⎞    C + x ⎟\n",
       "  ⎝C + x ⎠                ⎝⎝C + x ⎠          ⎠"
      ]
     },
     "metadata": {},
     "output_type": "display_data"
    },
    {
     "data": {
      "text/plain": [
       "True"
      ]
     },
     "execution_count": 47,
     "metadata": {},
     "output_type": "execute_result"
    }
   ],
   "source": [
    "x,C = sp.symbols('x C')\n",
    "y = -2*x**3/(C+x**2)\n",
    "display(x**2* sp.diff(y,x) - y**2 - 3*x*y )\n",
    "sp.simplify( x**2* sp.diff(y,x) - y**2 - 3*x*y ) ==  0"
   ]
  },
  {
   "cell_type": "code",
   "execution_count": 53,
   "metadata": {},
   "outputs": [
    {
     "data": {
      "image/png": "[encoded data removed]",
      "text/latex": [
       "$$- \\frac{4 x^{8}}{\\left(C + x^{2}\\right)^{2}} + \\frac{8 x^{5}}{C + x^{2}} + x^{2} \\left(\\frac{4 x^{5}}{\\left(C + x^{2}\\right)^{2}} - \\frac{8 x^{3}}{C + x^{2}}\\right)$$"
      ],
      "text/plain": [
       "        8         5       ⎛      5         3 ⎞\n",
       "     4⋅x       8⋅x      2 ⎜   4⋅x       8⋅x  ⎟\n",
       "- ───────── + ────── + x ⋅⎜───────── - ──────⎟\n",
       "          2        2      ⎜        2        2⎟\n",
       "  ⎛     2⎞    C + x       ⎜⎛     2⎞    C + x ⎟\n",
       "  ⎝C + x ⎠                ⎝⎝C + x ⎠          ⎠"
      ]
     },
     "metadata": {},
     "output_type": "display_data"
    },
    {
     "data": {
      "image/png": "[encoded data removed]",
      "text/latex": [
       "$$\\frac{4 x^{7} \\left(- x + 1\\right)}{\\left(C + x^{2}\\right)^{2}}$$"
      ],
      "text/plain": [
       "   7         \n",
       "4⋅x ⋅(-x + 1)\n",
       "─────────────\n",
       "          2  \n",
       "  ⎛     2⎞   \n",
       "  ⎝C + x ⎠   "
      ]
     },
     "execution_count": 53,
     "metadata": {},
     "output_type": "execute_result"
    }
   ],
   "source": [
    "x,C = sp.symbols('x C')\n",
    "y = -2*x**4/(C+x**2)\n",
    "display( x**2* sp.diff(y,x) - y**2 - 4*x*y )\n",
    "sp.simplify( x**2* sp.diff(y,x) - y**2 - 4*x*y ) "
   ]
  },
  {
   "cell_type": "code",
   "execution_count": null,
   "metadata": {},
   "outputs": [],
   "source": []
  }
 ],
 "metadata": {
  "kernelspec": {
   "display_name": "Python 3",
   "language": "python",
   "name": "python3"
  },
  "language_info": {
   "codemirror_mode": {
    "name": "ipython",
    "version": 3
   },
   "file_extension": ".py",
   "mimetype": "text/x-python",
   "name": "python",
   "nbconvert_exporter": "python",
   "pygments_lexer": "ipython3",
   "version": "3.7.3"
  }
 },
 "nbformat": 4,
 "nbformat_minor": 2
}
