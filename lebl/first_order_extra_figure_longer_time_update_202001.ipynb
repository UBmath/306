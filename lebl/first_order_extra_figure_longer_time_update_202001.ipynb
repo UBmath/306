{
 "cells": [
  {
   "cell_type": "code",
   "execution_count": 4,
   "metadata": {},
   "outputs": [],
   "source": []
  },
  {
   "cell_type": "code",
   "execution_count": 2,
   "metadata": {},
   "outputs": [
    {
     "name": "stderr",
     "output_type": "stream",
     "text": [
      "/usr/local/lib/python3.6/dist-packages/ipykernel_launcher.py:37: RuntimeWarning: divide by zero encountered in true_divide\n"
     ]
    },
    {
     "data": {
      "image/png": "[encoded data removed]",
      "text/plain": [
       "<matplotlib.figure.Figure at 0x7fea5941b390>"
      ]
     },
     "metadata": {
      "needs_background": "light"
     },
     "output_type": "display_data"
    }
   ],
   "source": [
    "depvar = 'x'\n",
    "indepvar = 't'\n",
    "\n",
    "import matplotlib.pyplot as plt\n",
    "import numpy as np\n",
    "from matplotlib import gridspec\n",
    "fig = plt.figure(figsize=(8,4))\n",
    "gs = gridspec.GridSpec(1, 3, width_ratios=[2, 0.3, 3]) \n",
    "ax = [plt.subplot(item) for item in gs]\n",
    "def f(x): return x**2 - 4*x + 3\n",
    "xextra = .2\n",
    "\n",
    "ax[0].fill([4,-2,-2,4],[1,1,3,3],'b',alpha=0.05)\n",
    "ax[0].fill([4,-2,-2,4],[3,3,4+xextra,4+xextra],'r',alpha=0.25)\n",
    "ax[0].fill([4,-2,-2,4],[1,1, -xextra, -xextra],'r',alpha=0.25)\n",
    "x = np.linspace(-xextra,4+xextra,100)\n",
    "ax[0].plot( f(x), x,'k', lw=2, alpha=0.5)\n",
    "ax[0].axvline(0,color='k',lw=2,alpha=.5)\n",
    "fontsize=15\n",
    "ax[0].set_xlabel(\"$\"+depvar+\"^{\\,\\prime}$\",fontsize=fontsize,rotation=90)\n",
    "ax[0].set_ylabel(\"$\"+depvar+\"$\",fontsize=fontsize,rotation=90)\n",
    "ax[0].set_xticklabels([str(xp) for xp in ['−2',0,2,4]], rotation=90)\n",
    "ax[0].set_yticklabels([str(xp) for xp in range(5)], rotation=90)\n",
    "ax[0].set_xlim(4,-2)\n",
    "ax[0].yaxis.set_label_position(\"right\")\n",
    "ax[0].yaxis.tick_right()\n",
    "\n",
    "for axi in ax:\n",
    "    axi.set_ylim(-xextra,4+xextra)\n",
    "for axi in [ax[0],ax[2]]:\n",
    "    axi.grid(True)\n",
    "    axi.axhline(1)\n",
    "    axi.axhline(3)\n",
    "    axi.set_yticks([0,1,2,3,4])\n",
    "\n",
    "def t(x): \n",
    "    return np.log(np.abs((x-3)/(x-1)))\n",
    "\n",
    "#x = np.linspace(3,4+xextra,200)\n",
    "#ax[2].plot( t(x)+2, x )\n",
    "\n",
    "x = np.linspace(1,6,200)\n",
    "ax[2].plot( t(x)+3.2, x,color='g' )\n",
    "#x = np.linspace(1,3,200)\n",
    "#ax[2].plot( t(x)+0, x )\n",
    "\n",
    "x = np.linspace(-xextra,1,701)\n",
    "ax[2].plot( t(x)-1, x,color='g')\n",
    "\n",
    "ax[2].set_xlabel(\"$\"+indepvar+\"$\",fontsize=fontsize,rotation=0);\n",
    "ax[2].set_xlim(0,6)    \n",
    "ax[2].set_xticks(range(7))\n",
    "ax[1].axvline(0,color='k',lw=2,alpha=0.75)\n",
    "ax[1].plot([0,0],[1,3],'o',markersize=4)\n",
    "ax[1].axis('off')\n",
    "ax[2].grid(True)\n",
    "ax[2].set_xticklabels([str(xp) for xp in ['−3','−2','−1',0,1,2,3,4,5,6]], rotation=0)\n",
    "\n",
    "plt.savefig('temp.svg',bbox_inches='tight')"
   ]
  },
  {
   "cell_type": "code",
   "execution_count": 2,
   "metadata": {},
   "outputs": [
    {
     "ename": "NameError",
     "evalue": "name 'toff' is not defined",
     "output_type": "error",
     "traceback": [
      "\u001b[0;31m---------------------------------------------------------------------------\u001b[0m",
      "\u001b[0;31mNameError\u001b[0m                                 Traceback (most recent call last)",
      "\u001b[0;32m<ipython-input-2-d7c522f1af46>\u001b[0m in \u001b[0;36m<module>\u001b[0;34m\u001b[0m\n\u001b[0;32m----> 1\u001b[0;31m \u001b[0mtoff\u001b[0m\u001b[0;34m\u001b[0m\u001b[0;34m\u001b[0m\u001b[0m\n\u001b[0m",
      "\u001b[0;31mNameError\u001b[0m: name 'toff' is not defined"
     ]
    }
   ],
   "source": [
    "toff"
   ]
  },
  {
   "cell_type": "code",
   "execution_count": 177,
   "metadata": {},
   "outputs": [
    {
     "data": {
      "text/plain": [
       "log(x - 3)/2 - log(x - 1)/2"
      ]
     },
     "execution_count": 177,
     "metadata": {},
     "output_type": "execute_result"
    }
   ],
   "source": [
    "x = sp.symbols('x')\n",
    "sp.simplify(sp.integrate( 1/(x**2 - 4*x + 3), x))"
   ]
  },
  {
   "cell_type": "code",
   "execution_count": 190,
   "metadata": {},
   "outputs": [
    {
     "data": {
      "image/png": "[encoded data removed]",
      "text/latex": [
       "$$- \\frac{1}{2 \\left(x - 1\\right)} + \\frac{1}{2 \\left(x - 3\\right)}$$"
      ],
      "text/plain": [
       "      1           1    \n",
       "- ───────── + ─────────\n",
       "  2⋅(x - 1)   2⋅(x - 3)"
      ]
     },
     "execution_count": 190,
     "metadata": {},
     "output_type": "execute_result"
    }
   ],
   "source": [
    "sp.init_printing()\n",
    "x = sp.symbols('x')\n",
    "sp.apart(1/(x**2 - 4*x + 3))"
   ]
  },
  {
   "cell_type": "code",
   "execution_count": null,
   "metadata": {},
   "outputs": [],
   "source": []
  }
 ],
 "metadata": {
  "kernelspec": {
   "display_name": "Python 3",
   "language": "python",
   "name": "python3"
  },
  "language_info": {
   "codemirror_mode": {
    "name": "ipython",
    "version": 3
   },
   "file_extension": ".py",
   "mimetype": "text/x-python",
   "name": "python",
   "nbconvert_exporter": "python",
   "pygments_lexer": "ipython3",
   "version": "3.6.9"
  }
 },
 "nbformat": 4,
 "nbformat_minor": 2
}
